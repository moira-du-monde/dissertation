{
  "nbformat": 4,
  "nbformat_minor": 0,
  "metadata": {
    "colab": {
      "provenance": [],
      "machine_shape": "hm",
      "mount_file_id": "1izuxjPLClu1OahRD_unjIaG6Cjd85aR9",
      "authorship_tag": "ABX9TyMGXQdtg5fjG71Btq4vQmZI"
    },
    "kernelspec": {
      "name": "python3",
      "display_name": "Python 3"
    },
    "language_info": {
      "name": "python"
    }
  },
  "cells": [
    {
      "cell_type": "markdown",
      "source": [
        "# Estimating defense contract spending across US counties using Ordinary Kriging\n",
        "\n",
        "This notebook contains the workflow I used to calculate US military spending at the county level between 1999-2022.\n",
        "\n",
        "The military spending data originated from USAspending.gov, which provides historical records of unclassified prime contracts.  There were 48,730,539 records for the specified time period.  Each contract is associated with a recipient's zip code, and I have already pre-processed the raw data by (1) summing the contract values by zip code by year (see X), and (2) adjusting these aggregated values for inflation (2022 dollars)  This is the state of the data I import below.\n",
        "\n",
        "Due to the size of the data involved and the compute time required, I ran the models below separately for each year.  This example just uses the data from 1999.\n"
      ],
      "metadata": {
        "id": "AxHA6H6CDRfC"
      }
    },
    {
      "cell_type": "code",
      "execution_count": 1,
      "metadata": {
        "id": "AXYO0g0lFdkS"
      },
      "outputs": [],
      "source": [
        "%%capture\n",
        "!pip install geopandas"
      ]
    },
    {
      "cell_type": "code",
      "source": [
        "%%capture\n",
        "!pip install rasterio"
      ],
      "metadata": {
        "id": "ZMS6WndZHCyP"
      },
      "execution_count": 2,
      "outputs": []
    },
    {
      "cell_type": "code",
      "source": [
        "%%capture\n",
        "!pip install scikit-gstat"
      ],
      "metadata": {
        "id": "ncGnQ5rtUA2z"
      },
      "execution_count": 3,
      "outputs": []
    },
    {
      "cell_type": "code",
      "source": [
        "%%capture\n",
        "!pip install pykrige"
      ],
      "metadata": {
        "id": "l9UVrBpsYBQc"
      },
      "execution_count": 4,
      "outputs": []
    },
    {
      "cell_type": "code",
      "source": [
        "%%capture\n",
        "!pip install rasterstats"
      ],
      "metadata": {
        "id": "2KrFi2Tv812U"
      },
      "execution_count": 5,
      "outputs": []
    },
    {
      "cell_type": "code",
      "source": [
        "%%capture\n",
        "!pip install shapely"
      ],
      "metadata": {
        "id": "qSo9DcmZy1qx"
      },
      "execution_count": 6,
      "outputs": []
    },
    {
      "cell_type": "code",
      "source": [
        "import geopandas as gpd\n",
        "import rasterio\n",
        "from rasterio.transform import from_bounds\n",
        "from rasterio.features import shapes\n",
        "from rasterio.mask import mask\n",
        "from shapely.geometry import shape\n",
        "import matplotlib.pyplot as plt\n",
        "import numpy as np\n",
        "import pandas as pd\n",
        "import multiprocessing\n",
        "from scipy.stats import zscore\n",
        "from skgstat import Variogram\n",
        "from pykrige.ok import OrdinaryKriging\n",
        "import pykrige.kriging_tools as kt\n",
        "\n",
        "from rasterstats import zonal_stats\n",
        "\n",
        "from shapely.geometry import Polygon, Point, box\n",
        "from shapely.affinity import rotate\n",
        "import math\n",
        "import os"
      ],
      "metadata": {
        "id": "gDfqFhzWHEcb"
      },
      "execution_count": 17,
      "outputs": []
    },
    {
      "cell_type": "code",
      "source": [
        "# example 1999\n",
        "gdf = gpd.read_file('/content/drive/MyDrive/Defense/Dissertation/Data/Contracts_year_shapefiles_adj_totals_no_naics/contracts_99.shp')"
      ],
      "metadata": {
        "id": "OblF0OuczFwm"
      },
      "execution_count": 8,
      "outputs": []
    },
    {
      "cell_type": "markdown",
      "source": [
        "## I.  Smoothing spatial data to control for spillovers\n",
        "\n",
        "In the first part of this workflow, I use Ordinary Kriging to interpolate contract values for zip codes that did not themselves receive contracts but were adjacent to those that did.  This was done to control for spatial spillover effects, since the local benefits (or costs) of spending are unlikely to solely accrue to the zips receiving the money.\n",
        "\n",
        "This exercise yields pseudo-continuous raster value maps of military spending that can be aggregated to other spatial units for further analysis.  \n"
      ],
      "metadata": {
        "id": "lYAg6qZxNwy6"
      }
    },
    {
      "cell_type": "code",
      "source": [
        "# Calculate the centroid for each polygon, since kriging works best with point data\n",
        "gdf['geometry'] = gdf.geometry.centroid\n",
        "\n",
        "gdf.head() # 'gdf' now has point geometries (centroids of the original zip code polygons)"
      ],
      "metadata": {
        "colab": {
          "base_uri": "https://localhost:8080/",
          "height": 451
        },
        "id": "nAEUGSuuzhjK",
        "outputId": "58d3ab41-f1e9-4f52-b3f1-fa4e18973755"
      },
      "execution_count": 9,
      "outputs": [
        {
          "output_type": "stream",
          "name": "stderr",
          "text": [
            "/usr/local/lib/python3.10/dist-packages/pandas/core/nanops.py:1010: RuntimeWarning: invalid value encountered in subtract\n",
            "  sqr = _ensure_numeric((avg - values) ** 2)\n"
          ]
        },
        {
          "output_type": "execute_result",
          "data": {
            "text/plain": [
              "  ZCTA5CE20 GEOID20 CLASSFP20 MTFCC20 FUNCSTAT20    ALAND20  AWATER20  \\\n",
              "0     47236   47236        B5   G6350          S  1029067.0       0.0   \n",
              "1     47870   47870        B5   G6350          S     8830.0       0.0   \n",
              "2     47851   47851        B5   G6350          S    53547.0       0.0   \n",
              "3     47337   47337        B5   G6350          S   303089.0       0.0   \n",
              "4     47435   47435        B5   G6350          S    13302.0       0.0   \n",
              "\n",
              "    INTPTLAT20    INTPTLON20  Unnamed_ 0  Ttl_pop   ZCTA zcta_1  action_dat  \\\n",
              "0  +39.1517426  -085.7252769         NaN      NaN   None   None        1999   \n",
              "1  +39.3701518  -087.4735141         NaN      NaN   None   None        1999   \n",
              "2  +39.5735818  -087.2459626         NaN      NaN   None   None        1999   \n",
              "3  +39.8027537  -085.4372850     25836.0    203.0  47337  47337        1999   \n",
              "4  +39.2657557  -086.2951577         NaN      NaN   None   None        1999   \n",
              "\n",
              "   federal_ac  dollars_pe  adjusted_v                          geometry  \n",
              "0           0         0.0         0.0  POINT (-4676032.836 4518262.695)  \n",
              "1           0         0.0         0.0   POINT (-4730643.89 4661160.522)  \n",
              "2           0         0.0         0.0   POINT (-4701315.17 4655253.514)  \n",
              "3           0         0.0         0.0  POINT (-4601175.114 4533904.817)  \n",
              "4           0         0.0         0.0  POINT (-4690071.355 4567165.244)  "
            ],
            "text/html": [
              "\n",
              "  <div id=\"df-4839a2fe-d038-48a0-8698-05983dc12008\" class=\"colab-df-container\">\n",
              "    <div>\n",
              "<style scoped>\n",
              "    .dataframe tbody tr th:only-of-type {\n",
              "        vertical-align: middle;\n",
              "    }\n",
              "\n",
              "    .dataframe tbody tr th {\n",
              "        vertical-align: top;\n",
              "    }\n",
              "\n",
              "    .dataframe thead th {\n",
              "        text-align: right;\n",
              "    }\n",
              "</style>\n",
              "<table border=\"1\" class=\"dataframe\">\n",
              "  <thead>\n",
              "    <tr style=\"text-align: right;\">\n",
              "      <th></th>\n",
              "      <th>ZCTA5CE20</th>\n",
              "      <th>GEOID20</th>\n",
              "      <th>CLASSFP20</th>\n",
              "      <th>MTFCC20</th>\n",
              "      <th>FUNCSTAT20</th>\n",
              "      <th>ALAND20</th>\n",
              "      <th>AWATER20</th>\n",
              "      <th>INTPTLAT20</th>\n",
              "      <th>INTPTLON20</th>\n",
              "      <th>Unnamed_ 0</th>\n",
              "      <th>Ttl_pop</th>\n",
              "      <th>ZCTA</th>\n",
              "      <th>zcta_1</th>\n",
              "      <th>action_dat</th>\n",
              "      <th>federal_ac</th>\n",
              "      <th>dollars_pe</th>\n",
              "      <th>adjusted_v</th>\n",
              "      <th>geometry</th>\n",
              "    </tr>\n",
              "  </thead>\n",
              "  <tbody>\n",
              "    <tr>\n",
              "      <th>0</th>\n",
              "      <td>47236</td>\n",
              "      <td>47236</td>\n",
              "      <td>B5</td>\n",
              "      <td>G6350</td>\n",
              "      <td>S</td>\n",
              "      <td>1029067.0</td>\n",
              "      <td>0.0</td>\n",
              "      <td>+39.1517426</td>\n",
              "      <td>-085.7252769</td>\n",
              "      <td>NaN</td>\n",
              "      <td>NaN</td>\n",
              "      <td>None</td>\n",
              "      <td>None</td>\n",
              "      <td>1999</td>\n",
              "      <td>0</td>\n",
              "      <td>0.0</td>\n",
              "      <td>0.0</td>\n",
              "      <td>POINT (-4676032.836 4518262.695)</td>\n",
              "    </tr>\n",
              "    <tr>\n",
              "      <th>1</th>\n",
              "      <td>47870</td>\n",
              "      <td>47870</td>\n",
              "      <td>B5</td>\n",
              "      <td>G6350</td>\n",
              "      <td>S</td>\n",
              "      <td>8830.0</td>\n",
              "      <td>0.0</td>\n",
              "      <td>+39.3701518</td>\n",
              "      <td>-087.4735141</td>\n",
              "      <td>NaN</td>\n",
              "      <td>NaN</td>\n",
              "      <td>None</td>\n",
              "      <td>None</td>\n",
              "      <td>1999</td>\n",
              "      <td>0</td>\n",
              "      <td>0.0</td>\n",
              "      <td>0.0</td>\n",
              "      <td>POINT (-4730643.89 4661160.522)</td>\n",
              "    </tr>\n",
              "    <tr>\n",
              "      <th>2</th>\n",
              "      <td>47851</td>\n",
              "      <td>47851</td>\n",
              "      <td>B5</td>\n",
              "      <td>G6350</td>\n",
              "      <td>S</td>\n",
              "      <td>53547.0</td>\n",
              "      <td>0.0</td>\n",
              "      <td>+39.5735818</td>\n",
              "      <td>-087.2459626</td>\n",
              "      <td>NaN</td>\n",
              "      <td>NaN</td>\n",
              "      <td>None</td>\n",
              "      <td>None</td>\n",
              "      <td>1999</td>\n",
              "      <td>0</td>\n",
              "      <td>0.0</td>\n",
              "      <td>0.0</td>\n",
              "      <td>POINT (-4701315.17 4655253.514)</td>\n",
              "    </tr>\n",
              "    <tr>\n",
              "      <th>3</th>\n",
              "      <td>47337</td>\n",
              "      <td>47337</td>\n",
              "      <td>B5</td>\n",
              "      <td>G6350</td>\n",
              "      <td>S</td>\n",
              "      <td>303089.0</td>\n",
              "      <td>0.0</td>\n",
              "      <td>+39.8027537</td>\n",
              "      <td>-085.4372850</td>\n",
              "      <td>25836.0</td>\n",
              "      <td>203.0</td>\n",
              "      <td>47337</td>\n",
              "      <td>47337</td>\n",
              "      <td>1999</td>\n",
              "      <td>0</td>\n",
              "      <td>0.0</td>\n",
              "      <td>0.0</td>\n",
              "      <td>POINT (-4601175.114 4533904.817)</td>\n",
              "    </tr>\n",
              "    <tr>\n",
              "      <th>4</th>\n",
              "      <td>47435</td>\n",
              "      <td>47435</td>\n",
              "      <td>B5</td>\n",
              "      <td>G6350</td>\n",
              "      <td>S</td>\n",
              "      <td>13302.0</td>\n",
              "      <td>0.0</td>\n",
              "      <td>+39.2657557</td>\n",
              "      <td>-086.2951577</td>\n",
              "      <td>NaN</td>\n",
              "      <td>NaN</td>\n",
              "      <td>None</td>\n",
              "      <td>None</td>\n",
              "      <td>1999</td>\n",
              "      <td>0</td>\n",
              "      <td>0.0</td>\n",
              "      <td>0.0</td>\n",
              "      <td>POINT (-4690071.355 4567165.244)</td>\n",
              "    </tr>\n",
              "  </tbody>\n",
              "</table>\n",
              "</div>\n",
              "    <div class=\"colab-df-buttons\">\n",
              "\n",
              "  <div class=\"colab-df-container\">\n",
              "    <button class=\"colab-df-convert\" onclick=\"convertToInteractive('df-4839a2fe-d038-48a0-8698-05983dc12008')\"\n",
              "            title=\"Convert this dataframe to an interactive table.\"\n",
              "            style=\"display:none;\">\n",
              "\n",
              "  <svg xmlns=\"http://www.w3.org/2000/svg\" height=\"24px\" viewBox=\"0 -960 960 960\">\n",
              "    <path d=\"M120-120v-720h720v720H120Zm60-500h600v-160H180v160Zm220 220h160v-160H400v160Zm0 220h160v-160H400v160ZM180-400h160v-160H180v160Zm440 0h160v-160H620v160ZM180-180h160v-160H180v160Zm440 0h160v-160H620v160Z\"/>\n",
              "  </svg>\n",
              "    </button>\n",
              "\n",
              "  <style>\n",
              "    .colab-df-container {\n",
              "      display:flex;\n",
              "      gap: 12px;\n",
              "    }\n",
              "\n",
              "    .colab-df-convert {\n",
              "      background-color: #E8F0FE;\n",
              "      border: none;\n",
              "      border-radius: 50%;\n",
              "      cursor: pointer;\n",
              "      display: none;\n",
              "      fill: #1967D2;\n",
              "      height: 32px;\n",
              "      padding: 0 0 0 0;\n",
              "      width: 32px;\n",
              "    }\n",
              "\n",
              "    .colab-df-convert:hover {\n",
              "      background-color: #E2EBFA;\n",
              "      box-shadow: 0px 1px 2px rgba(60, 64, 67, 0.3), 0px 1px 3px 1px rgba(60, 64, 67, 0.15);\n",
              "      fill: #174EA6;\n",
              "    }\n",
              "\n",
              "    .colab-df-buttons div {\n",
              "      margin-bottom: 4px;\n",
              "    }\n",
              "\n",
              "    [theme=dark] .colab-df-convert {\n",
              "      background-color: #3B4455;\n",
              "      fill: #D2E3FC;\n",
              "    }\n",
              "\n",
              "    [theme=dark] .colab-df-convert:hover {\n",
              "      background-color: #434B5C;\n",
              "      box-shadow: 0px 1px 3px 1px rgba(0, 0, 0, 0.15);\n",
              "      filter: drop-shadow(0px 1px 2px rgba(0, 0, 0, 0.3));\n",
              "      fill: #FFFFFF;\n",
              "    }\n",
              "  </style>\n",
              "\n",
              "    <script>\n",
              "      const buttonEl =\n",
              "        document.querySelector('#df-4839a2fe-d038-48a0-8698-05983dc12008 button.colab-df-convert');\n",
              "      buttonEl.style.display =\n",
              "        google.colab.kernel.accessAllowed ? 'block' : 'none';\n",
              "\n",
              "      async function convertToInteractive(key) {\n",
              "        const element = document.querySelector('#df-4839a2fe-d038-48a0-8698-05983dc12008');\n",
              "        const dataTable =\n",
              "          await google.colab.kernel.invokeFunction('convertToInteractive',\n",
              "                                                    [key], {});\n",
              "        if (!dataTable) return;\n",
              "\n",
              "        const docLinkHtml = 'Like what you see? Visit the ' +\n",
              "          '<a target=\"_blank\" href=https://colab.research.google.com/notebooks/data_table.ipynb>data table notebook</a>'\n",
              "          + ' to learn more about interactive tables.';\n",
              "        element.innerHTML = '';\n",
              "        dataTable['output_type'] = 'display_data';\n",
              "        await google.colab.output.renderOutput(dataTable, element);\n",
              "        const docLink = document.createElement('div');\n",
              "        docLink.innerHTML = docLinkHtml;\n",
              "        element.appendChild(docLink);\n",
              "      }\n",
              "    </script>\n",
              "  </div>\n",
              "\n",
              "\n",
              "<div id=\"df-7bc93a3f-4d31-4a5d-9bb1-0f070b88e00a\">\n",
              "  <button class=\"colab-df-quickchart\" onclick=\"quickchart('df-7bc93a3f-4d31-4a5d-9bb1-0f070b88e00a')\"\n",
              "            title=\"Suggest charts\"\n",
              "            style=\"display:none;\">\n",
              "\n",
              "<svg xmlns=\"http://www.w3.org/2000/svg\" height=\"24px\"viewBox=\"0 0 24 24\"\n",
              "     width=\"24px\">\n",
              "    <g>\n",
              "        <path d=\"M19 3H5c-1.1 0-2 .9-2 2v14c0 1.1.9 2 2 2h14c1.1 0 2-.9 2-2V5c0-1.1-.9-2-2-2zM9 17H7v-7h2v7zm4 0h-2V7h2v10zm4 0h-2v-4h2v4z\"/>\n",
              "    </g>\n",
              "</svg>\n",
              "  </button>\n",
              "\n",
              "<style>\n",
              "  .colab-df-quickchart {\n",
              "      --bg-color: #E8F0FE;\n",
              "      --fill-color: #1967D2;\n",
              "      --hover-bg-color: #E2EBFA;\n",
              "      --hover-fill-color: #174EA6;\n",
              "      --disabled-fill-color: #AAA;\n",
              "      --disabled-bg-color: #DDD;\n",
              "  }\n",
              "\n",
              "  [theme=dark] .colab-df-quickchart {\n",
              "      --bg-color: #3B4455;\n",
              "      --fill-color: #D2E3FC;\n",
              "      --hover-bg-color: #434B5C;\n",
              "      --hover-fill-color: #FFFFFF;\n",
              "      --disabled-bg-color: #3B4455;\n",
              "      --disabled-fill-color: #666;\n",
              "  }\n",
              "\n",
              "  .colab-df-quickchart {\n",
              "    background-color: var(--bg-color);\n",
              "    border: none;\n",
              "    border-radius: 50%;\n",
              "    cursor: pointer;\n",
              "    display: none;\n",
              "    fill: var(--fill-color);\n",
              "    height: 32px;\n",
              "    padding: 0;\n",
              "    width: 32px;\n",
              "  }\n",
              "\n",
              "  .colab-df-quickchart:hover {\n",
              "    background-color: var(--hover-bg-color);\n",
              "    box-shadow: 0 1px 2px rgba(60, 64, 67, 0.3), 0 1px 3px 1px rgba(60, 64, 67, 0.15);\n",
              "    fill: var(--button-hover-fill-color);\n",
              "  }\n",
              "\n",
              "  .colab-df-quickchart-complete:disabled,\n",
              "  .colab-df-quickchart-complete:disabled:hover {\n",
              "    background-color: var(--disabled-bg-color);\n",
              "    fill: var(--disabled-fill-color);\n",
              "    box-shadow: none;\n",
              "  }\n",
              "\n",
              "  .colab-df-spinner {\n",
              "    border: 2px solid var(--fill-color);\n",
              "    border-color: transparent;\n",
              "    border-bottom-color: var(--fill-color);\n",
              "    animation:\n",
              "      spin 1s steps(1) infinite;\n",
              "  }\n",
              "\n",
              "  @keyframes spin {\n",
              "    0% {\n",
              "      border-color: transparent;\n",
              "      border-bottom-color: var(--fill-color);\n",
              "      border-left-color: var(--fill-color);\n",
              "    }\n",
              "    20% {\n",
              "      border-color: transparent;\n",
              "      border-left-color: var(--fill-color);\n",
              "      border-top-color: var(--fill-color);\n",
              "    }\n",
              "    30% {\n",
              "      border-color: transparent;\n",
              "      border-left-color: var(--fill-color);\n",
              "      border-top-color: var(--fill-color);\n",
              "      border-right-color: var(--fill-color);\n",
              "    }\n",
              "    40% {\n",
              "      border-color: transparent;\n",
              "      border-right-color: var(--fill-color);\n",
              "      border-top-color: var(--fill-color);\n",
              "    }\n",
              "    60% {\n",
              "      border-color: transparent;\n",
              "      border-right-color: var(--fill-color);\n",
              "    }\n",
              "    80% {\n",
              "      border-color: transparent;\n",
              "      border-right-color: var(--fill-color);\n",
              "      border-bottom-color: var(--fill-color);\n",
              "    }\n",
              "    90% {\n",
              "      border-color: transparent;\n",
              "      border-bottom-color: var(--fill-color);\n",
              "    }\n",
              "  }\n",
              "</style>\n",
              "\n",
              "  <script>\n",
              "    async function quickchart(key) {\n",
              "      const quickchartButtonEl =\n",
              "        document.querySelector('#' + key + ' button');\n",
              "      quickchartButtonEl.disabled = true;  // To prevent multiple clicks.\n",
              "      quickchartButtonEl.classList.add('colab-df-spinner');\n",
              "      try {\n",
              "        const charts = await google.colab.kernel.invokeFunction(\n",
              "            'suggestCharts', [key], {});\n",
              "      } catch (error) {\n",
              "        console.error('Error during call to suggestCharts:', error);\n",
              "      }\n",
              "      quickchartButtonEl.classList.remove('colab-df-spinner');\n",
              "      quickchartButtonEl.classList.add('colab-df-quickchart-complete');\n",
              "    }\n",
              "    (() => {\n",
              "      let quickchartButtonEl =\n",
              "        document.querySelector('#df-7bc93a3f-4d31-4a5d-9bb1-0f070b88e00a button');\n",
              "      quickchartButtonEl.style.display =\n",
              "        google.colab.kernel.accessAllowed ? 'block' : 'none';\n",
              "    })();\n",
              "  </script>\n",
              "</div>\n",
              "\n",
              "    </div>\n",
              "  </div>\n"
            ],
            "application/vnd.google.colaboratory.intrinsic+json": {
              "type": "dataframe",
              "variable_name": "gdf",
              "repr_error": "Out of range float values are not JSON compliant: inf"
            }
          },
          "metadata": {},
          "execution_count": 9
        }
      ]
    },
    {
      "cell_type": "code",
      "source": [
        "gdf.shape # there are about 34k zip codes in the US"
      ],
      "metadata": {
        "colab": {
          "base_uri": "https://localhost:8080/"
        },
        "id": "ThNqHbmSXMzc",
        "outputId": "495c0da3-da2d-4211-c22b-a476480ce004"
      },
      "execution_count": 10,
      "outputs": [
        {
          "output_type": "execute_result",
          "data": {
            "text/plain": [
              "(34155, 18)"
            ]
          },
          "metadata": {},
          "execution_count": 10
        }
      ]
    },
    {
      "cell_type": "markdown",
      "source": [
        "Because Alaska, Hawaii, and other US territories like Guam and Puerto Rico could introduce distortions into the interpolation analysis, I decided to only include the zip codes from the lower 48 states.\n",
        "\n",
        "This function clips the spatial extent of the data to a bounding box the user defines.  The one I used describes the continental US's outlying latitudes and longitudes:\n",
        "\n",
        "- top = 49.3457868 # north lat\n",
        "- left = -124.7844079 # west long\n",
        "- right = -66.9513812 # east long\n",
        "- bottom =  24.7433195 # south lat"
      ],
      "metadata": {
        "id": "7zvmVGY-P6Cv"
      }
    },
    {
      "cell_type": "code",
      "source": [
        "def clip_rotate(geodf, bbox, rotation_angle):\n",
        "    # Ensure the geodataframe is in the correct coordinate system (EPSG:4326)\n",
        "    if geodf.crs != 'EPSG:4326':\n",
        "        geodf = geodf.to_crs('EPSG:4326')\n",
        "\n",
        "    # Create a bounding box\n",
        "    bbox_polygon = box(*bbox)\n",
        "\n",
        "    # Clip to bounding box\n",
        "    geodf_clipped = gpd.clip(geodf, bbox_polygon)\n",
        "\n",
        "    # Check if there is data after clipping\n",
        "    if geodf_clipped.empty:\n",
        "        print(\"No data within the specified bounding box.\")\n",
        "        return\n",
        "\n",
        "    # Rotate the geometries\n",
        "    geodf_clipped['geometry'] = geodf_clipped['geometry'].apply(lambda x: rotate(x, rotation_angle, origin='center'))\n",
        "\n",
        "    return geodf_clipped\n",
        "\n",
        "# Define the bounding box (minx, miny, maxx, maxy)\n",
        "bbox = (-125.0, 24.6, -67.0, 50.0)"
      ],
      "metadata": {
        "id": "lxhYMFPfxHGA"
      },
      "execution_count": 11,
      "outputs": []
    },
    {
      "cell_type": "code",
      "source": [
        "gdf = clip_rotate(gdf, bbox, rotation_angle=295)\n",
        "gdf.shape"
      ],
      "metadata": {
        "colab": {
          "base_uri": "https://localhost:8080/"
        },
        "id": "xapkuCJ0xKSE",
        "outputId": "09fec388-65b9-4604-d8c3-ec20810bb700"
      },
      "execution_count": 12,
      "outputs": [
        {
          "output_type": "stream",
          "name": "stderr",
          "text": [
            "/usr/local/lib/python3.10/dist-packages/geopandas/geodataframe.py:1819: SettingWithCopyWarning: \n",
            "A value is trying to be set on a copy of a slice from a DataFrame.\n",
            "Try using .loc[row_indexer,col_indexer] = value instead\n",
            "\n",
            "See the caveats in the documentation: https://pandas.pydata.org/pandas-docs/stable/user_guide/indexing.html#returning-a-view-versus-a-copy\n",
            "  super().__setitem__(key, value)\n"
          ]
        },
        {
          "output_type": "execute_result",
          "data": {
            "text/plain": [
              "(33299, 18)"
            ]
          },
          "metadata": {},
          "execution_count": 12
        }
      ]
    },
    {
      "cell_type": "markdown",
      "source": [
        "I also wanted to standardize the contract values so in the end I could report the relationships between contracts and the dependent variables (i.e., patent counts, number and size of businesses, and related variety) in terms of a standard deviation of spending."
      ],
      "metadata": {
        "id": "ZbHGGkIpfzXG"
      }
    },
    {
      "cell_type": "code",
      "source": [
        "# drop the zero values\n",
        "gdf_sans_zeros = gdf[gdf['adjusted_v'] != 0]\n",
        "\n",
        "gdf_sans_zeros['adjusted_v'].mean() # baseline mean"
      ],
      "metadata": {
        "id": "o2KYPj-He6Lf",
        "colab": {
          "base_uri": "https://localhost:8080/"
        },
        "outputId": "96894d92-7151-4174-b1e8-adc9cbe17458"
      },
      "execution_count": 13,
      "outputs": [
        {
          "output_type": "execute_result",
          "data": {
            "text/plain": [
              "7470494.573261032"
            ]
          },
          "metadata": {},
          "execution_count": 13
        }
      ]
    },
    {
      "cell_type": "code",
      "source": [
        "def add_zscore_column(df, column_name):\n",
        "    # Check if the column exists in the DataFrame\n",
        "    if column_name in df.columns:\n",
        "        # Calculate z-score\n",
        "        df[column_name + '_zscore'] = zscore(df[column_name])\n",
        "    else:\n",
        "        raise ValueError(f\"Column '{column_name}' does not exist in the DataFrame.\")\n",
        "    return df\n",
        "\n",
        "gdf_sans_zeros = add_zscore_column(gdf_sans_zeros, 'adjusted_v')\n",
        "\n",
        "gdf_sans_zeros = gpd.GeoDataFrame(gdf_sans_zeros)\n"
      ],
      "metadata": {
        "colab": {
          "base_uri": "https://localhost:8080/"
        },
        "id": "zDKZURvdf2xz",
        "outputId": "cd661660-5568-496c-d58d-1007746076ee"
      },
      "execution_count": 14,
      "outputs": [
        {
          "output_type": "stream",
          "name": "stderr",
          "text": [
            "/usr/local/lib/python3.10/dist-packages/geopandas/geodataframe.py:1819: SettingWithCopyWarning: \n",
            "A value is trying to be set on a copy of a slice from a DataFrame.\n",
            "Try using .loc[row_indexer,col_indexer] = value instead\n",
            "\n",
            "See the caveats in the documentation: https://pandas.pydata.org/pandas-docs/stable/user_guide/indexing.html#returning-a-view-versus-a-copy\n",
            "  super().__setitem__(key, value)\n"
          ]
        }
      ]
    },
    {
      "cell_type": "code",
      "source": [
        "%%capture\n",
        "gdf_sans_zeros['adjusted_v_zscore'].describe() # new mean should be about 0 and std deviation should be about 1"
      ],
      "metadata": {
        "id": "ChXBV-E6iiuS"
      },
      "execution_count": 15,
      "outputs": []
    },
    {
      "cell_type": "markdown",
      "source": [
        "Quick plot to check progress:"
      ],
      "metadata": {
        "id": "fD_upOVZeovn"
      }
    },
    {
      "cell_type": "code",
      "source": [
        "# Extract x and y coordinates from the geometry\n",
        "gdf_sans_zeros['x'] = gdf_sans_zeros.geometry.x\n",
        "gdf_sans_zeros['y'] = gdf_sans_zeros.geometry.y\n",
        "\n",
        "# marker size\n",
        "sizes = .25\n",
        "\n",
        "# Create the scatter plot\n",
        "plt.figure(figsize=(15, 8))\n",
        "scatter = plt.scatter(gdf_sans_zeros['x'], gdf_sans_zeros['y'], s = sizes)\n",
        "\n",
        "# Adding titles and labels (optional)\n",
        "plt.title('Investment locations - Centroids')\n",
        "plt.xlabel('Longitude')\n",
        "plt.ylabel('Latitude')\n",
        "\n",
        "# Show the plot\n",
        "plt.show()\n"
      ],
      "metadata": {
        "colab": {
          "base_uri": "https://localhost:8080/",
          "height": 505
        },
        "id": "X4190ESaes7E",
        "outputId": "94d9076f-e9a1-422e-a0fb-f7ac1f9f96c0"
      },
      "execution_count": 16,
      "outputs": [
        {
          "output_type": "display_data",
          "data": {
            "text/plain": [
              "<Figure size 1500x800 with 1 Axes>"
            ],
            "image/png": "[encoded data removed]"
          },
          "metadata": {}
        }
      ]
    },
    {
      "cell_type": "markdown",
      "source": [
        "Here's where I used the pykrige library's \"OrdinaryKriging\" function to run the interpolation.  Refer to the [docs](https://geostat-framework.readthedocs.io/projects/pykrige/en/stable/generated/pykrige.ok.OrdinaryKriging.html) for more info."
      ],
      "metadata": {
        "id": "V5uS3L9j1fyn"
      }
    },
    {
      "cell_type": "code",
      "source": [
        "x = gdf_sans_zeros['x']\n",
        "y = gdf_sans_zeros['y']\n",
        "z = gdf_sans_zeros['adjusted_v_zscore']\n",
        "\n",
        "OK = OrdinaryKriging(x,\n",
        "                     y,\n",
        "                     z = gdf_sans_zeros['adjusted_v_zscore'],\n",
        "                     variogram_model = 'exponential')"
      ],
      "metadata": {
        "id": "1pEeB-KCjNOo"
      },
      "execution_count": 18,
      "outputs": []
    },
    {
      "cell_type": "code",
      "source": [
        "OK.variogram_model_parameters # automatically calculated using L1 norm minimization scheme"
      ],
      "metadata": {
        "colab": {
          "base_uri": "https://localhost:8080/"
        },
        "id": "rATvSJUFnV2h",
        "outputId": "09fbb66f-9a85-4687-ab8a-e9aab01ebc96"
      },
      "execution_count": 19,
      "outputs": [
        {
          "output_type": "execute_result",
          "data": {
            "text/plain": [
              "array([ 0.2453873, 10.9541291,  0.757659 ])"
            ]
          },
          "metadata": {},
          "execution_count": 19
        }
      ]
    },
    {
      "cell_type": "code",
      "source": [
        "min_x, min_y, max_x, max_y = (-125.0, 24.6, -67.0, 50.0) # define spatial extent of the bbox; same as above\n",
        "\n",
        "gridx = np.arange(min_x, max_x, 0.25, dtype='float64') # longitude\n",
        "gridy = np.arange(min_y, max_y, 0.25, dtype='float64') # latitude\n",
        "zstar, ss = OK.execute('grid', gridx, gridy) # zstar is interpolated values, ss is uncertainty"
      ],
      "metadata": {
        "id": "ZdUY-AYSmDuW"
      },
      "execution_count": 20,
      "outputs": []
    },
    {
      "cell_type": "code",
      "source": [
        "print(zstar.shape)\n",
        "print(ss.shape)"
      ],
      "metadata": {
        "colab": {
          "base_uri": "https://localhost:8080/"
        },
        "id": "EtrKu_fRnDCx",
        "outputId": "d2213657-b045-4833-e379-72e1890c4c4e"
      },
      "execution_count": 21,
      "outputs": [
        {
          "output_type": "stream",
          "name": "stdout",
          "text": [
            "(102, 232)\n",
            "(102, 232)\n"
          ]
        }
      ]
    },
    {
      "cell_type": "markdown",
      "source": [
        "Plot to check work:"
      ],
      "metadata": {
        "id": "VzC1WZLAhuMf"
      }
    },
    {
      "cell_type": "code",
      "source": [
        "# plt.figure(figsize=(15, 8))\n",
        "cax = plt.imshow(zstar, extent = (min_x, max_x, min_y, max_y), origin = 'lower')\n",
        "# plt.scatter(x, y, c= 'k', marker = '.')\n",
        "cbar = plt.colorbar(cax)\n",
        "plt.title('Defense spending 1999')"
      ],
      "metadata": {
        "colab": {
          "base_uri": "https://localhost:8080/",
          "height": 425
        },
        "id": "mqvw4qE8n04R",
        "outputId": "9bce4377-a79f-40a4-9944-b0a264ea734f"
      },
      "execution_count": 22,
      "outputs": [
        {
          "output_type": "execute_result",
          "data": {
            "text/plain": [
              "Text(0.5, 1.0, 'Defense spending 1999')"
            ]
          },
          "metadata": {},
          "execution_count": 22
        },
        {
          "output_type": "display_data",
          "data": {
            "text/plain": [
              "<Figure size 640x480 with 2 Axes>"
            ],
            "image/png": "[encoded data removed]"
          },
          "metadata": {}
        }
      ]
    },
    {
      "cell_type": "markdown",
      "source": [
        "Write the output to a raster file:"
      ],
      "metadata": {
        "id": "I8P2M1_ui4Xn"
      }
    },
    {
      "cell_type": "code",
      "source": [
        "# Get the number of rows and columns for the raster\n",
        "num_rows, num_cols = zstar.shape\n",
        "\n",
        "# Bounding box coordinates\n",
        "min_x, min_y, max_x, max_y = (-125.0, 24.6, -67.0, 50.0)\n",
        "\n",
        "# Create the transform\n",
        "transform = from_bounds(min_x, min_y, max_x, max_y, num_cols, num_rows)\n",
        "\n",
        "# Define raster metadata\n",
        "metadata = {\n",
        "    'driver': 'GTiff',\n",
        "    'height': num_rows,\n",
        "    'width': num_cols,\n",
        "    'count': 1,  # number of raster bands\n",
        "    'dtype': zstar.dtype,\n",
        "    'crs': 'EPSG:4326',  # WGS 84\n",
        "    'transform': transform\n",
        "}\n",
        "\n",
        "# Create the raster file and write zstar to it\n",
        "with rasterio.open('kriging_output1.tif', 'w', **metadata) as dst:\n",
        "    dst.write(zstar, 1)  # Write zstar to the first band\n"
      ],
      "metadata": {
        "id": "ghpP8os6ZsYh"
      },
      "execution_count": 23,
      "outputs": []
    },
    {
      "cell_type": "markdown",
      "source": [
        "Notice the OK model interpolated the entire area of the bbox, not just within the US boundaries.  So now I'll need to clean this up.  To do this, I need a precise outline of the lower 48 states.  You used to be able to call country border data right from geopandas (via the lowres Earth dataset), but unfortunately this function is now deprecated. Incorporating this data now requires downloading the shapefile and importing it separately."
      ],
      "metadata": {
        "id": "MqAYcnyNjTlV"
      }
    },
    {
      "cell_type": "code",
      "source": [
        "# Load the boundaries of the United States\n",
        "world = gpd.read_file('/content/drive/MyDrive/Defense/Dissertation/Data/Organizing_data/ne_110m_admin_0_countries.shp')\n",
        "us = world[world['ADMIN'] == 'United States of America']\n",
        "us = us.to_crs(crs='EPSG:4326')\n",
        "\n",
        "# Extract the geometry for masking\n",
        "geometries = us.geometry.values\n",
        "\n",
        "# Open the raster file and apply the mask\n",
        "with rasterio.open('kriging_output1.tif') as src:\n",
        "    out_image, out_transform = mask(src, geometries, crop=True)\n",
        "    out_meta = src.meta.copy()\n",
        "\n",
        "# Update the metadata to reflect the new dimensions and transform\n",
        "out_meta.update({\n",
        "    \"driver\": \"GTiff\",\n",
        "    \"height\": out_image.shape[1],\n",
        "    \"width\": out_image.shape[2],\n",
        "    \"transform\": out_transform\n",
        "})\n",
        "\n",
        "# Save the clipped raster\n",
        "clipped_raster_path = '/content/drive/MyDrive/Defense/Dissertation/Final_map_tifs/kriging99.tif'  # Update path for other years\n",
        "with rasterio.open(clipped_raster_path, 'w', **out_meta) as dest:\n",
        "    dest.write(out_image)"
      ],
      "metadata": {
        "id": "j7b50nHkkkiO"
      },
      "execution_count": 24,
      "outputs": []
    },
    {
      "cell_type": "code",
      "source": [
        "# Path to input raster file\n",
        "tif_path = '/content/drive/MyDrive/Defense/Dissertation/Final_map_tifs/kriging99.tif'  # Update this path for other years\n",
        "\n",
        "# Read the raster data\n",
        "with rasterio.open(tif_path) as src:\n",
        "    # Read the first band\n",
        "    band1 = src.read(1)\n",
        "    # Get the affine transformation for the raster\n",
        "    transform = src.transform\n",
        "    # Handle nodata value\n",
        "    nodata = src.nodata\n",
        "\n",
        "# Convert band1 to an appropriate data type\n",
        "if band1.dtype == 'float64':  # for handling float64\n",
        "    band1 = band1.astype('float32')\n",
        "else:\n",
        "    band1 = band1.astype('int32')  # Or another type if needed\n",
        "\n",
        "# mask valid data points (exclude nodata values)\n",
        "mask = band1 != nodata\n",
        "\n",
        "# Generate shapes from the raster data\n",
        "results = shapes(band1, mask=mask, transform=transform)\n",
        "\n",
        "# Convert shapes to a GeoDataFrame\n",
        "geoms = []\n",
        "values = []\n",
        "\n",
        "for shape_info in results:\n",
        "    geom, value = shape_info  # shape_info is a tuple (geometry, value)\n",
        "    geoms.append(shape(geom))  # Convert to Shapely geometry\n",
        "    values.append(value)\n",
        "\n",
        "# Create a GeoDataFrame with the geometries and values\n",
        "gdf = gpd.GeoDataFrame({'geometry': geoms, 'value': values}, crs=\"EPSG:4326\")\n",
        "\n",
        "# Path to save the GeoJSON file\n",
        "geojson_path = '/content/drive/MyDrive/Defense/Dissertation/Final_map_geojsons/kriging99.geojson'  # Update this path\n",
        "\n",
        "# Save the GeoDataFrame to GeoJSON\n",
        "gdf.to_file(geojson_path, driver='GeoJSON')\n"
      ],
      "metadata": {
        "id": "lWJiNXnQqvqb"
      },
      "execution_count": 25,
      "outputs": []
    },
    {
      "cell_type": "code",
      "source": [
        "gdf_check = gpd.read_file('/content/drive/MyDrive/Defense/Dissertation/Final_map_geojsons/kriging99.geojson')\n",
        "gdf.shape"
      ],
      "metadata": {
        "id": "RIGp8jJNaMAL",
        "colab": {
          "base_uri": "https://localhost:8080/"
        },
        "outputId": "03cfc944-da01-45e9-d1c1-a0505130b6bc"
      },
      "execution_count": 27,
      "outputs": [
        {
          "output_type": "execute_result",
          "data": {
            "text/plain": [
              "(13497, 2)"
            ]
          },
          "metadata": {},
          "execution_count": 27
        }
      ]
    },
    {
      "cell_type": "code",
      "source": [
        "gdf_check = gdf_check[gdf_check['value'] != 0]\n",
        "gdf_check.shape\n",
        "\n",
        "gdf_check.to_file('/content/drive/MyDrive/Defense/Dissertation/Final_map_geojsons/kriging99_no_zeros.geojson')"
      ],
      "metadata": {
        "id": "bLmNx7Flmqv4"
      },
      "execution_count": 29,
      "outputs": []
    },
    {
      "cell_type": "markdown",
      "source": [
        "## II.  Calculate Zonal Statistics: Counties\n",
        "\n",
        "In this form, smoothed contract data was easily aggregated to counties using zonal statistics functions from the rasterstats library."
      ],
      "metadata": {
        "id": "6Mw-EBAH9Mg0"
      }
    },
    {
      "cell_type": "code",
      "source": [
        "# use county\n",
        "counties = gpd.read_file('/content/drive/MyDrive/Defense/Dissertation/Data/Income_inequality_county20/cb_2018_us_county_20m.shp')\n",
        "\n",
        "counties.to_crs(crs = 'EPSG:4326')"
      ],
      "metadata": {
        "id": "-p2FQmqg9o0D"
      },
      "execution_count": null,
      "outputs": []
    },
    {
      "cell_type": "code",
      "source": [
        "# Load your shapefile into a GeoDataFrame\n",
        "shapefile_path = ('/content/drive/MyDrive/Defense/Dissertation/Data/Income_inequality_county20/cb_2018_us_county_20m.shp')\n",
        "gdf = gpd.read_file(shapefile_path)\n",
        "gdf.to_crs(crs = 'EPSG:4326')\n",
        "\n",
        "# Path to your raster file\n",
        "raster_path = '/content/drive/MyDrive/Defense/Dissertation/Final_map_tifs/kriging99.tif'\n",
        "\n",
        "# Calculate zonal statistics\n",
        "stats = zonal_stats(shapefile_path, raster_path, stats=\"count min mean max median\")\n",
        "\n",
        "# Add the statistics to the GeoDataFrame\n",
        "# Assuming the order of features in GeoDataFrame is the same as in the shapefile\n",
        "gdf['min'] = [stat['min'] for stat in stats]\n",
        "gdf['mean'] = [stat['mean'] for stat in stats]\n",
        "gdf['max'] = [stat['max'] for stat in stats]\n",
        "gdf['median'] = [stat['median'] for stat in stats]\n",
        "\n",
        "# Now 'gdf' contains the original data plus the new columns with zonal statistics\n",
        "\n",
        "gdf.to_file('/content/drive/MyDrive/Defense/Dissertation/Data/Zonal_statistics_counties/exponential99.shp')"
      ],
      "metadata": {
        "colab": {
          "base_uri": "https://localhost:8080/"
        },
        "id": "EdI5B-5b3919",
        "outputId": "dffbc022-e03c-48b5-b48e-25327e745bdb"
      },
      "execution_count": null,
      "outputs": [
        {
          "output_type": "stream",
          "name": "stderr",
          "text": [
            "/usr/local/lib/python3.10/dist-packages/rasterstats/io.py:328: NodataWarning: Setting nodata to -999; specify nodata explicitly\n",
            "  warnings.warn(\n"
          ]
        }
      ]
    }
  ]
}